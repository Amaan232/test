{
  "nbformat": 4,
  "nbformat_minor": 0,
  "metadata": {
    "colab": {
      "provenance": [],
      "mount_file_id": "1HANg01a_9oxpJkVb01yke5LO0-IlicRC",
      "authorship_tag": "ABX9TyOceTHpoYHZ8U9xhLrkdnOJ",
      "include_colab_link": true
    },
    "kernelspec": {
      "name": "python3",
      "display_name": "Python 3"
    },
    "language_info": {
      "name": "python"
    }
  },
  "cells": [
    {
      "cell_type": "markdown",
      "metadata": {
        "id": "view-in-github",
        "colab_type": "text"
      },
      "source": [
        "<a href=\"https://colab.research.google.com/github/Amaan232/test/blob/main/test1.ipynb\" target=\"_parent\"><img src=\"https://colab.research.google.com/assets/colab-badge.svg\" alt=\"Open In Colab\"/></a>"
      ]
    },
    {
      "cell_type": "code",
      "source": [
        "import json\n",
        "from google.colab import drive\n",
        "\n",
        "\n",
        "drive.mount('/content/drive')\n",
        "\n",
        "\n",
        "file_path = '/content/drive/MyDrive/all_data_dlp.json'\n",
        "\n",
        "\n",
        "all_data = [{\n",
        "    \"response\": [\n",
        "        {\n",
        "            \"orgId\": \"e5d7d34d-8329-437f-be94-859aa27c17d7\",\n",
        "            \"companyId\": \"ec23bf27-bffc-4e9c-8e31-07bf72a3d1b0\",\n",
        "            \"companyName\": \"Together, Testing\",\n",
        "            \"version\": \"Overwriting\",\n",
        "            \"versionId\": \"7083540e-3c63-444f-9858-eff45cbe3108\",\n",
        "            \"period\": \"Monthly\",\n",
        "            \"tag\": \"Income Statement\",\n",
        "            \"units\": \"Crores\",\n",
        "            \"currency\": \"INR\",\n",
        "            \"geography\": \"COL-Colombia\",\n",
        "            \"sector\": \"Fintech\",\n",
        "            \"fiscalYearEnd\": \"MARCH\"\n",
        "        }\n",
        "            ]\n",
        "}\n",
        "]\n",
        "\n",
        "with open(file_path, 'w') as f:\n",
        "    json.dump(all_data, f, indent=4)\n",
        "\n",
        "print(f\"File saved to {file_path}\")\n"
      ],
      "metadata": {
        "colab": {
          "base_uri": "https://localhost:8080/"
        },
        "id": "2k2R_96SKIQS",
        "outputId": "322cf0b7-e0cd-42c6-ee01-01bc32109ce1"
      },
      "execution_count": null,
      "outputs": [
        {
          "output_type": "stream",
          "name": "stdout",
          "text": [
            "File saved to /content/drive/MyDrive/all_data_dlp.json\n"
          ]
        }
      ]
    }
  ]
}